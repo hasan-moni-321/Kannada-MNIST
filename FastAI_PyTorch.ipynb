{
  "nbformat": 4,
  "nbformat_minor": 0,
  "metadata": {
    "colab": {
      "name": "FastAI/PyTorch.ipynb",
      "provenance": [],
      "collapsed_sections": []
    },
    "kernelspec": {
      "name": "python3",
      "display_name": "Python 3"
    },
    "accelerator": "GPU"
  },
  "cells": [
    {
      "cell_type": "code",
      "metadata": {
        "id": "JWr_GD3JpSaZ"
      },
      "source": [
        "import numpy as np\n",
        "import pandas as pd\n",
        "import matplotlib.pyplot as plt\n",
        "\n",
        "from fastai import *\n",
        "from fastai.vision import *\n",
        "\n",
        "import torch \n"
      ],
      "execution_count": 14,
      "outputs": []
    },
    {
      "cell_type": "code",
      "metadata": {
        "id": "FXbyozE4pZoW"
      },
      "source": [
        ""
      ],
      "execution_count": 14,
      "outputs": []
    },
    {
      "cell_type": "code",
      "metadata": {
        "id": "dQJY6PCEpZrM"
      },
      "source": [
        "def get_data_labels(csv,label):\n",
        "    fileraw = pd.read_csv(csv)\n",
        "    labels = fileraw[label].to_numpy()\n",
        "    data = fileraw.drop([label],axis=1).to_numpy(dtype=np.float32).reshape((fileraw.shape[0],28,28))\n",
        "    data = np.expand_dims(data, axis=1)\n",
        "    return data, labels"
      ],
      "execution_count": 15,
      "outputs": []
    },
    {
      "cell_type": "code",
      "metadata": {
        "id": "txevUXiupZtx"
      },
      "source": [
        "DATAPATH = \"/content/drive/My Drive/Colab Folder/kannada MNIST/\"\n",
        "\n",
        "train_data, train_labels = get_data_labels(DATAPATH+'train.csv','label')\n",
        "test_data, test_labels = get_data_labels(DATAPATH+'test.csv','id')\n",
        "other_data, other_labels = get_data_labels(DATAPATH+'Dig-MNIST.csv','label')"
      ],
      "execution_count": 16,
      "outputs": []
    },
    {
      "cell_type": "code",
      "metadata": {
        "id": "9aA5to78pZwS",
        "outputId": "9b50e4cc-8e28-49b3-f0c6-caaa96939a27",
        "colab": {
          "base_uri": "https://localhost:8080/"
        }
      },
      "source": [
        "print(f' Train:\\tdata shape {train_data.shape}\\tlabel shape {train_labels.shape}\\n \\\n",
        "Test:\\tdata shape {test_data.shape}\\tlabel shape {test_labels.shape}\\n \\\n",
        "Other:\\tdata shape {other_data.shape}\\tlabel shape {other_labels.shape}')"
      ],
      "execution_count": 17,
      "outputs": [
        {
          "output_type": "stream",
          "text": [
            " Train:\tdata shape (60000, 1, 28, 28)\tlabel shape (60000,)\n",
            " Test:\tdata shape (5000, 1, 28, 28)\tlabel shape (5000,)\n",
            " Other:\tdata shape (10240, 1, 28, 28)\tlabel shape (10240,)\n"
          ],
          "name": "stdout"
        }
      ]
    },
    {
      "cell_type": "code",
      "metadata": {
        "id": "C831WVhtpZzA",
        "outputId": "eb5c0940-c2d7-4a2a-d138-d5797f43d3b0",
        "colab": {
          "base_uri": "https://localhost:8080/",
          "height": 298
        }
      },
      "source": [
        "plt.title(f'Training Label: {train_labels[5]}')\n",
        "plt.imshow(train_data[8,0],cmap='gray')"
      ],
      "execution_count": 18,
      "outputs": [
        {
          "output_type": "execute_result",
          "data": {
            "text/plain": [
              "<matplotlib.image.AxesImage at 0x7fbbb3260358>"
            ]
          },
          "metadata": {
            "tags": []
          },
          "execution_count": 18
        },
        {
          "output_type": "display_data",
          "data": {
            "image/png": "[encoded data removed]",
            "text/plain": [
              "<Figure size 432x288 with 1 Axes>"
            ]
          },
          "metadata": {
            "tags": [],
            "needs_background": "light"
          }
        }
      ]
    },
    {
      "cell_type": "code",
      "metadata": {
        "id": "fQgk5MWtpZ-E"
      },
      "source": [
        ""
      ],
      "execution_count": 18,
      "outputs": []
    },
    {
      "cell_type": "code",
      "metadata": {
        "id": "xg-7H_NgpaA4"
      },
      "source": [
        "np.random.seed(60)\n",
        "#np.random.randint(low = 0, high = 255, size = 1)\n",
        "\n",
        "ran_10_pct_idx = (np.random.random_sample(train_labels.shape)) < .001\n",
        "\n",
        "train_90_labels = train_labels[np.invert(ran_10_pct_idx)]\n",
        "train_90_data = train_data[np.invert(ran_10_pct_idx)]\n",
        "\n",
        "valid_10_labels = train_labels[ran_10_pct_idx]\n",
        "valid_10_data = train_data[ran_10_pct_idx]"
      ],
      "execution_count": 19,
      "outputs": []
    },
    {
      "cell_type": "code",
      "metadata": {
        "id": "6bpQeonhpaDk"
      },
      "source": [
        ""
      ],
      "execution_count": 19,
      "outputs": []
    },
    {
      "cell_type": "code",
      "metadata": {
        "id": "WLgwJZWTpaGa"
      },
      "source": [
        "class ArrayDataset(Dataset):\n",
        "    \"Dataset for numpy arrays based on fastai example: \"\n",
        "    def __init__(self, x, y):\n",
        "        self.x, self.y = x, y\n",
        "        self.c = len(np.unique(y))\n",
        "    \n",
        "    def __len__(self):\n",
        "        return len(self.x)\n",
        "    \n",
        "    def __getitem__(self, i):\n",
        "        return self.x[i], self.y[i]\n",
        "        "
      ],
      "execution_count": 20,
      "outputs": []
    },
    {
      "cell_type": "code",
      "metadata": {
        "id": "CnJVoZMkpaI-"
      },
      "source": [
        "train_ds = ArrayDataset(train_90_data,train_90_labels)\n",
        "valid_ds = ArrayDataset(valid_10_data,valid_10_labels)\n",
        "other_ds = ArrayDataset(other_data, other_labels)\n",
        "test_ds = ArrayDataset(test_data, test_labels)"
      ],
      "execution_count": 21,
      "outputs": []
    },
    {
      "cell_type": "code",
      "metadata": {
        "id": "1OrgdazppaLk"
      },
      "source": [
        ""
      ],
      "execution_count": 21,
      "outputs": []
    },
    {
      "cell_type": "code",
      "metadata": {
        "id": "IleEkxu4wxyD"
      },
      "source": [
        "bs = 256\n",
        "databunch = DataBunch.create(train_ds, valid_ds, test_ds=test_ds, bs=bs)"
      ],
      "execution_count": 22,
      "outputs": []
    },
    {
      "cell_type": "code",
      "metadata": {
        "id": "t8ndF3WAwx25"
      },
      "source": [
        "def conv2(ni,nf,stride=2,ks=5): return conv_layer(ni,nf,stride=stride,ks=ks)"
      ],
      "execution_count": 23,
      "outputs": []
    },
    {
      "cell_type": "code",
      "metadata": {
        "id": "ifgQrzoGwx5g"
      },
      "source": [
        "best_architecture = nn.Sequential(\n",
        "    conv2(1,32,stride=1,ks=5),\n",
        "    conv2(32,32,stride=1,ks=5),\n",
        "    conv2(32,32,stride=2,ks=8),\n",
        "    nn.Dropout(0.4),\n",
        "    \n",
        "    conv2(32,64,stride=1,ks=5),\n",
        "    conv2(64,64,stride=1,ks=5),\n",
        "    conv2(64,64,stride=2,ks=5),\n",
        "    nn.Dropout(0.4),\n",
        "    \n",
        "    Flatten(),\n",
        "    nn.Linear(3136, 256),\n",
        "    relu(inplace=True),\n",
        "    nn.BatchNorm1d(256),\n",
        "    nn.Dropout(0.4),\n",
        "    nn.Linear(256,10)\n",
        ")\n"
      ],
      "execution_count": 24,
      "outputs": []
    },
    {
      "cell_type": "code",
      "metadata": {
        "id": "-erCry1nw769"
      },
      "source": [
        "learn = Learner(databunch, best_architecture, loss_func = nn.CrossEntropyLoss(), metrics=[accuracy] )"
      ],
      "execution_count": 25,
      "outputs": []
    },
    {
      "cell_type": "code",
      "metadata": {
        "id": "1a40Iwr2w792",
        "outputId": "fed29b3d-c03e-40ea-c73e-d082340a7b30",
        "colab": {
          "base_uri": "https://localhost:8080/",
          "height": 363
        }
      },
      "source": [
        "learn.fit_one_cycle(10)"
      ],
      "execution_count": 26,
      "outputs": [
        {
          "output_type": "display_data",
          "data": {
            "text/html": [
              "<table border=\"1\" class=\"dataframe\">\n",
              "  <thead>\n",
              "    <tr style=\"text-align: left;\">\n",
              "      <th>epoch</th>\n",
              "      <th>train_loss</th>\n",
              "      <th>valid_loss</th>\n",
              "      <th>accuracy</th>\n",
              "      <th>time</th>\n",
              "    </tr>\n",
              "  </thead>\n",
              "  <tbody>\n",
              "    <tr>\n",
              "      <td>0</td>\n",
              "      <td>0.097547</td>\n",
              "      <td>0.028372</td>\n",
              "      <td>0.980392</td>\n",
              "      <td>00:10</td>\n",
              "    </tr>\n",
              "    <tr>\n",
              "      <td>1</td>\n",
              "      <td>0.039171</td>\n",
              "      <td>0.031337</td>\n",
              "      <td>0.980392</td>\n",
              "      <td>00:10</td>\n",
              "    </tr>\n",
              "    <tr>\n",
              "      <td>2</td>\n",
              "      <td>0.034306</td>\n",
              "      <td>0.000394</td>\n",
              "      <td>1.000000</td>\n",
              "      <td>00:10</td>\n",
              "    </tr>\n",
              "    <tr>\n",
              "      <td>3</td>\n",
              "      <td>0.024515</td>\n",
              "      <td>0.040443</td>\n",
              "      <td>0.980392</td>\n",
              "      <td>00:10</td>\n",
              "    </tr>\n",
              "    <tr>\n",
              "      <td>4</td>\n",
              "      <td>0.020001</td>\n",
              "      <td>0.001241</td>\n",
              "      <td>1.000000</td>\n",
              "      <td>00:10</td>\n",
              "    </tr>\n",
              "    <tr>\n",
              "      <td>5</td>\n",
              "      <td>0.014998</td>\n",
              "      <td>0.000119</td>\n",
              "      <td>1.000000</td>\n",
              "      <td>00:10</td>\n",
              "    </tr>\n",
              "    <tr>\n",
              "      <td>6</td>\n",
              "      <td>0.010829</td>\n",
              "      <td>0.000085</td>\n",
              "      <td>1.000000</td>\n",
              "      <td>00:10</td>\n",
              "    </tr>\n",
              "    <tr>\n",
              "      <td>7</td>\n",
              "      <td>0.006235</td>\n",
              "      <td>0.000096</td>\n",
              "      <td>1.000000</td>\n",
              "      <td>00:10</td>\n",
              "    </tr>\n",
              "    <tr>\n",
              "      <td>8</td>\n",
              "      <td>0.003128</td>\n",
              "      <td>0.000021</td>\n",
              "      <td>1.000000</td>\n",
              "      <td>00:10</td>\n",
              "    </tr>\n",
              "    <tr>\n",
              "      <td>9</td>\n",
              "      <td>0.002617</td>\n",
              "      <td>0.000012</td>\n",
              "      <td>1.000000</td>\n",
              "      <td>00:10</td>\n",
              "    </tr>\n",
              "  </tbody>\n",
              "</table>"
            ],
            "text/plain": [
              "<IPython.core.display.HTML object>"
            ]
          },
          "metadata": {
            "tags": []
          }
        }
      ]
    },
    {
      "cell_type": "code",
      "metadata": {
        "id": "-2D387hBzgz5"
      },
      "source": [
        "torch.save(best_architecture.state_dict(), \"/content/drive/My Drive/Colab Folder/kannada MNIST/kannada_fastai.sh\")\n"
      ],
      "execution_count": 33,
      "outputs": []
    },
    {
      "cell_type": "code",
      "metadata": {
        "id": "wo5CPOCaxGvJ",
        "outputId": "9c495370-f31b-4ca6-e8c2-d4366ded73e1",
        "colab": {
          "base_uri": "https://localhost:8080/",
          "height": 17
        }
      },
      "source": [
        "preds, ids = learn.get_preds(DatasetType.Test)\n",
        "y = torch.argmax(preds, dim=1)"
      ],
      "execution_count": 28,
      "outputs": [
        {
          "output_type": "display_data",
          "data": {
            "text/html": [
              ""
            ],
            "text/plain": [
              "<IPython.core.display.HTML object>"
            ]
          },
          "metadata": {
            "tags": []
          }
        }
      ]
    },
    {
      "cell_type": "code",
      "metadata": {
        "id": "PiWk2WXu0sG5",
        "outputId": "70b4dfd1-49ea-4b23-cf58-f088c9f1980a",
        "colab": {
          "base_uri": "https://localhost:8080/"
        }
      },
      "source": [
        "y"
      ],
      "execution_count": 29,
      "outputs": [
        {
          "output_type": "execute_result",
          "data": {
            "text/plain": [
              "tensor([3, 0, 2,  ..., 1, 6, 3])"
            ]
          },
          "metadata": {
            "tags": []
          },
          "execution_count": 29
        }
      ]
    },
    {
      "cell_type": "code",
      "metadata": {
        "id": "MSBvQ__yxGyY"
      },
      "source": [
        "submission = pd.DataFrame({ 'id': ids,'label': y })\n",
        "submission.to_csv(path_or_buf =\"submission.csv\", index=False)"
      ],
      "execution_count": 30,
      "outputs": []
    },
    {
      "cell_type": "code",
      "metadata": {
        "id": "LLwDCAkVxKah",
        "outputId": "a33c02ea-509d-45db-f873-db43497b159a",
        "colab": {
          "base_uri": "https://localhost:8080/",
          "height": 424
        }
      },
      "source": [
        "df = pd.read_csv(\"/content/submission.csv\")\n",
        "df"
      ],
      "execution_count": 31,
      "outputs": [
        {
          "output_type": "execute_result",
          "data": {
            "text/html": [
              "<div>\n",
              "<style scoped>\n",
              "    .dataframe tbody tr th:only-of-type {\n",
              "        vertical-align: middle;\n",
              "    }\n",
              "\n",
              "    .dataframe tbody tr th {\n",
              "        vertical-align: top;\n",
              "    }\n",
              "\n",
              "    .dataframe thead th {\n",
              "        text-align: right;\n",
              "    }\n",
              "</style>\n",
              "<table border=\"1\" class=\"dataframe\">\n",
              "  <thead>\n",
              "    <tr style=\"text-align: right;\">\n",
              "      <th></th>\n",
              "      <th>id</th>\n",
              "      <th>label</th>\n",
              "    </tr>\n",
              "  </thead>\n",
              "  <tbody>\n",
              "    <tr>\n",
              "      <th>0</th>\n",
              "      <td>0</td>\n",
              "      <td>3</td>\n",
              "    </tr>\n",
              "    <tr>\n",
              "      <th>1</th>\n",
              "      <td>1</td>\n",
              "      <td>0</td>\n",
              "    </tr>\n",
              "    <tr>\n",
              "      <th>2</th>\n",
              "      <td>2</td>\n",
              "      <td>2</td>\n",
              "    </tr>\n",
              "    <tr>\n",
              "      <th>3</th>\n",
              "      <td>3</td>\n",
              "      <td>6</td>\n",
              "    </tr>\n",
              "    <tr>\n",
              "      <th>4</th>\n",
              "      <td>4</td>\n",
              "      <td>7</td>\n",
              "    </tr>\n",
              "    <tr>\n",
              "      <th>...</th>\n",
              "      <td>...</td>\n",
              "      <td>...</td>\n",
              "    </tr>\n",
              "    <tr>\n",
              "      <th>4995</th>\n",
              "      <td>4995</td>\n",
              "      <td>1</td>\n",
              "    </tr>\n",
              "    <tr>\n",
              "      <th>4996</th>\n",
              "      <td>4996</td>\n",
              "      <td>1</td>\n",
              "    </tr>\n",
              "    <tr>\n",
              "      <th>4997</th>\n",
              "      <td>4997</td>\n",
              "      <td>1</td>\n",
              "    </tr>\n",
              "    <tr>\n",
              "      <th>4998</th>\n",
              "      <td>4998</td>\n",
              "      <td>6</td>\n",
              "    </tr>\n",
              "    <tr>\n",
              "      <th>4999</th>\n",
              "      <td>4999</td>\n",
              "      <td>3</td>\n",
              "    </tr>\n",
              "  </tbody>\n",
              "</table>\n",
              "<p>5000 rows × 2 columns</p>\n",
              "</div>"
            ],
            "text/plain": [
              "        id  label\n",
              "0        0      3\n",
              "1        1      0\n",
              "2        2      2\n",
              "3        3      6\n",
              "4        4      7\n",
              "...    ...    ...\n",
              "4995  4995      1\n",
              "4996  4996      1\n",
              "4997  4997      1\n",
              "4998  4998      6\n",
              "4999  4999      3\n",
              "\n",
              "[5000 rows x 2 columns]"
            ]
          },
          "metadata": {
            "tags": []
          },
          "execution_count": 31
        }
      ]
    },
    {
      "cell_type": "code",
      "metadata": {
        "id": "JbUCrVU91FC7"
      },
      "source": [
        ""
      ],
      "execution_count": null,
      "outputs": []
    }
  ]
}